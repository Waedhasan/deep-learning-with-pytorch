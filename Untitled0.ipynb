{
  "nbformat": 4,
  "nbformat_minor": 0,
  "metadata": {
    "colab": {
      "name": "Untitled0.ipynb",
      "provenance": [],
      "collapsed_sections": [],
      "authorship_tag": "ABX9TyO2Aqbd31pDd7TNK6srzcSu",
      "include_colab_link": true
    },
    "kernelspec": {
      "name": "python3",
      "display_name": "Python 3"
    },
    "accelerator": "GPU",
    "widgets": {
      "application/vnd.jupyter.widget-state+json": {
        "931e4520ec1841e78b627514922e81d1": {
          "model_module": "@jupyter-widgets/controls",
          "model_name": "HBoxModel",
          "state": {
            "_view_name": "HBoxView",
            "_dom_classes": [],
            "_model_name": "HBoxModel",
            "_view_module": "@jupyter-widgets/controls",
            "_model_module_version": "1.5.0",
            "_view_count": null,
            "_view_module_version": "1.5.0",
            "box_style": "",
            "layout": "IPY_MODEL_3ebbbb5ae7414d3684505ec49c14a3c1",
            "_model_module": "@jupyter-widgets/controls",
            "children": [
              "IPY_MODEL_b67275685749481296fbf7489d7e4c6e",
              "IPY_MODEL_e9549e5f522544a69428bfb1b580d720"
            ]
          }
        },
        "3ebbbb5ae7414d3684505ec49c14a3c1": {
          "model_module": "@jupyter-widgets/base",
          "model_name": "LayoutModel",
          "state": {
            "_view_name": "LayoutView",
            "grid_template_rows": null,
            "right": null,
            "justify_content": null,
            "_view_module": "@jupyter-widgets/base",
            "overflow": null,
            "_model_module_version": "1.2.0",
            "_view_count": null,
            "flex_flow": null,
            "width": null,
            "min_width": null,
            "border": null,
            "align_items": null,
            "bottom": null,
            "_model_module": "@jupyter-widgets/base",
            "top": null,
            "grid_column": null,
            "overflow_y": null,
            "overflow_x": null,
            "grid_auto_flow": null,
            "grid_area": null,
            "grid_template_columns": null,
            "flex": null,
            "_model_name": "LayoutModel",
            "justify_items": null,
            "grid_row": null,
            "max_height": null,
            "align_content": null,
            "visibility": null,
            "align_self": null,
            "height": null,
            "min_height": null,
            "padding": null,
            "grid_auto_rows": null,
            "grid_gap": null,
            "max_width": null,
            "order": null,
            "_view_module_version": "1.2.0",
            "grid_template_areas": null,
            "object_position": null,
            "object_fit": null,
            "grid_auto_columns": null,
            "margin": null,
            "display": null,
            "left": null
          }
        },
        "b67275685749481296fbf7489d7e4c6e": {
          "model_module": "@jupyter-widgets/controls",
          "model_name": "FloatProgressModel",
          "state": {
            "_view_name": "ProgressView",
            "style": "IPY_MODEL_fd063b50ca6847cca9640a56fa68c517",
            "_dom_classes": [],
            "description": "",
            "_model_name": "FloatProgressModel",
            "bar_style": "info",
            "max": 1,
            "_view_module": "@jupyter-widgets/controls",
            "_model_module_version": "1.5.0",
            "value": 1,
            "_view_count": null,
            "_view_module_version": "1.5.0",
            "orientation": "horizontal",
            "min": 0,
            "description_tooltip": null,
            "_model_module": "@jupyter-widgets/controls",
            "layout": "IPY_MODEL_a23110ac6c394bb3af328eca20270225"
          }
        },
        "e9549e5f522544a69428bfb1b580d720": {
          "model_module": "@jupyter-widgets/controls",
          "model_name": "HTMLModel",
          "state": {
            "_view_name": "HTMLView",
            "style": "IPY_MODEL_a1e2c9d673de42c7a53807391bb944cc",
            "_dom_classes": [],
            "description": "",
            "_model_name": "HTMLModel",
            "placeholder": "​",
            "_view_module": "@jupyter-widgets/controls",
            "_model_module_version": "1.5.0",
            "value": " 169009152/? [00:20&lt;00:00, 80434959.25it/s]",
            "_view_count": null,
            "_view_module_version": "1.5.0",
            "description_tooltip": null,
            "_model_module": "@jupyter-widgets/controls",
            "layout": "IPY_MODEL_9e4a2d65db30410dad7040a20c1a8901"
          }
        },
        "fd063b50ca6847cca9640a56fa68c517": {
          "model_module": "@jupyter-widgets/controls",
          "model_name": "ProgressStyleModel",
          "state": {
            "_view_name": "StyleView",
            "_model_name": "ProgressStyleModel",
            "description_width": "initial",
            "_view_module": "@jupyter-widgets/base",
            "_model_module_version": "1.5.0",
            "_view_count": null,
            "_view_module_version": "1.2.0",
            "bar_color": null,
            "_model_module": "@jupyter-widgets/controls"
          }
        },
        "a23110ac6c394bb3af328eca20270225": {
          "model_module": "@jupyter-widgets/base",
          "model_name": "LayoutModel",
          "state": {
            "_view_name": "LayoutView",
            "grid_template_rows": null,
            "right": null,
            "justify_content": null,
            "_view_module": "@jupyter-widgets/base",
            "overflow": null,
            "_model_module_version": "1.2.0",
            "_view_count": null,
            "flex_flow": null,
            "width": null,
            "min_width": null,
            "border": null,
            "align_items": null,
            "bottom": null,
            "_model_module": "@jupyter-widgets/base",
            "top": null,
            "grid_column": null,
            "overflow_y": null,
            "overflow_x": null,
            "grid_auto_flow": null,
            "grid_area": null,
            "grid_template_columns": null,
            "flex": null,
            "_model_name": "LayoutModel",
            "justify_items": null,
            "grid_row": null,
            "max_height": null,
            "align_content": null,
            "visibility": null,
            "align_self": null,
            "height": null,
            "min_height": null,
            "padding": null,
            "grid_auto_rows": null,
            "grid_gap": null,
            "max_width": null,
            "order": null,
            "_view_module_version": "1.2.0",
            "grid_template_areas": null,
            "object_position": null,
            "object_fit": null,
            "grid_auto_columns": null,
            "margin": null,
            "display": null,
            "left": null
          }
        },
        "a1e2c9d673de42c7a53807391bb944cc": {
          "model_module": "@jupyter-widgets/controls",
          "model_name": "DescriptionStyleModel",
          "state": {
            "_view_name": "StyleView",
            "_model_name": "DescriptionStyleModel",
            "description_width": "",
            "_view_module": "@jupyter-widgets/base",
            "_model_module_version": "1.5.0",
            "_view_count": null,
            "_view_module_version": "1.2.0",
            "_model_module": "@jupyter-widgets/controls"
          }
        },
        "9e4a2d65db30410dad7040a20c1a8901": {
          "model_module": "@jupyter-widgets/base",
          "model_name": "LayoutModel",
          "state": {
            "_view_name": "LayoutView",
            "grid_template_rows": null,
            "right": null,
            "justify_content": null,
            "_view_module": "@jupyter-widgets/base",
            "overflow": null,
            "_model_module_version": "1.2.0",
            "_view_count": null,
            "flex_flow": null,
            "width": null,
            "min_width": null,
            "border": null,
            "align_items": null,
            "bottom": null,
            "_model_module": "@jupyter-widgets/base",
            "top": null,
            "grid_column": null,
            "overflow_y": null,
            "overflow_x": null,
            "grid_auto_flow": null,
            "grid_area": null,
            "grid_template_columns": null,
            "flex": null,
            "_model_name": "LayoutModel",
            "justify_items": null,
            "grid_row": null,
            "max_height": null,
            "align_content": null,
            "visibility": null,
            "align_self": null,
            "height": null,
            "min_height": null,
            "padding": null,
            "grid_auto_rows": null,
            "grid_gap": null,
            "max_width": null,
            "order": null,
            "_view_module_version": "1.2.0",
            "grid_template_areas": null,
            "object_position": null,
            "object_fit": null,
            "grid_auto_columns": null,
            "margin": null,
            "display": null,
            "left": null
          }
        }
      }
    }
  },
  "cells": [
    {
      "cell_type": "markdown",
      "metadata": {
        "id": "view-in-github",
        "colab_type": "text"
      },
      "source": [
        "<a href=\"https://colab.research.google.com/github/Waedhasan/deep-learning-with-pytorch/blob/master/Untitled0.ipynb\" target=\"_parent\"><img src=\"https://colab.research.google.com/assets/colab-badge.svg\" alt=\"Open In Colab\"/></a>"
      ]
    },
    {
      "cell_type": "code",
      "metadata": {
        "id": "_ehXZB7aFbRL",
        "colab_type": "code",
        "colab": {}
      },
      "source": [
        "import matplotlib.pyplot as plt\n",
        "import numpy as np\n",
        "import torch\n",
        "\n",
        "\n",
        "def set_default(figsize=(10, 10), dpi=100):\n",
        "    plt.style.use(['dark_background', 'bmh'])\n",
        "    plt.rc('axes', facecolor='k')\n",
        "    plt.rc('figure', facecolor='k')\n",
        "    plt.rc('figure', figsize=figsize, dpi=dpi)\n",
        "    \n",
        "    \n",
        "def plot_model(X, y, model):\n",
        "    model.cpu()\n",
        "    mesh = np.arange(-1.1, 1.1, 0.01)\n",
        "    xx, yy = np.meshgrid(mesh, mesh)\n",
        "    with torch.no_grad():\n",
        "        data = torch.from_numpy(np.vstack((xx.reshape(-1), yy.reshape(-1))).T).float()\n",
        "        Z = model(data).detach()\n",
        "    Z = np.argmax(Z, axis=1).reshape(xx.shape)\n",
        "    plt.contourf(xx, yy, Z, cmap=plt.cm.Spectral, alpha=0.3)\n",
        "    plot_data(X, y)\n",
        "    \n",
        "\n",
        "def plot_data(X, y, d=0, auto=False, zoom=1):\n",
        "    X = X.cpu()\n",
        "    y = y.cpu()\n",
        "    plt.scatter(X.numpy()[:, 0], X.numpy()[:, 1], c=y, s=20, cmap=plt.cm.Spectral)\n",
        "    plt.axis('square')\n",
        "    plt.axis(np.array((-1.1, 1.1, -1.1, 1.1)) * zoom)\n",
        "    if auto is True: plt.axis('equal')\n",
        "    plt.axis('off')\n",
        "\n",
        "    _m, _c = 0, '.15'\n",
        "    plt.axvline(0, ymin=_m, color=_c, lw=1, zorder=0)\n",
        "    plt.axhline(0, xmin=_m, color=_c, lw=1, zorder=0)\n",
        "\n",
        "\n",
        "def visualize_model(model, device, dataloaders, class_names, num_images=6):\n",
        "    was_training = model.training\n",
        "    model.eval()\n",
        "    images_so_far = 0\n",
        "    fig = plt.figure()\n",
        "\n",
        "    with torch.no_grad():\n",
        "        for i, (inputs, labels) in enumerate(dataloaders['val']):\n",
        "            inputs = inputs.to(device)\n",
        "            labels = labels.to(device)\n",
        "\n",
        "            outputs = model(inputs)\n",
        "            _, preds = torch.max(outputs, 1)\n",
        "\n",
        "            for j in range(inputs.size()[0]):\n",
        "                images_so_far += 1\n",
        "                ax = plt.subplot(num_images//2, 2, images_so_far)\n",
        "                ax.axis('off')\n",
        "                ax.set_title('predicted: {}'.format(class_names[preds[j]]))\n",
        "                imshow(inputs.cpu().data[j])\n",
        "\n",
        "                if images_so_far == num_images:\n",
        "                    model.train(mode=was_training)\n",
        "                    return\n",
        "        model.train(mode=was_training)\n",
        "\n",
        "\n",
        "def imshow(inp, title=None):\n",
        "    \"\"\"Imshow for Tensor.\"\"\"\n",
        "    inp = inp.numpy().transpose((1, 2, 0))\n",
        "    mean = np.array([0.5, 0.5, 0.5])\n",
        "    std = np.array([0.3, 0.3, 0.3])\n",
        "    inp = std * inp + mean\n",
        "    inp = np.clip(inp, 0, 1)\n",
        "    plt.imshow(inp)\n",
        "    if title is not None:\n",
        "        plt.title(title)\n",
        "    plt.pause(0.001)  # pause a bit so that plots are updated\n"
      ],
      "execution_count": 10,
      "outputs": []
    },
    {
      "cell_type": "code",
      "metadata": {
        "id": "xKqogO-VFkRQ",
        "colab_type": "code",
        "colab": {}
      },
      "source": [
        "import time\n",
        "import copy\n",
        "import torch\n",
        "\n",
        "def train_model(model, criterion, optimizer, scheduler, dataloaders, device, num_epochs=25):\n",
        "    since = time.time()\n",
        "\n",
        "    best_model_wts = copy.deepcopy(model.state_dict())\n",
        "    best_acc = 0.0\n",
        "\n",
        "    for epoch in range(num_epochs):\n",
        "\n",
        "        # Each epoch has a training and validation phase\n",
        "        for phase in ['train', 'val']:\n",
        "            if phase == 'train':\n",
        "                model.train()  # Set model to training mode\n",
        "            else:\n",
        "                model.eval()   # Set model to evaluate mode\n",
        "\n",
        "            running_loss = 0.0\n",
        "            running_corrects = 0\n",
        "\n",
        "            # Iterate over data.\n",
        "            for inputs, labels in dataloaders[phase]:\n",
        "                inputs = inputs.to(device)\n",
        "                labels = labels.to(device)\n",
        "\n",
        "                # zero the parameter gradients\n",
        "                optimizer.zero_grad()\n",
        "\n",
        "                # forward\n",
        "                # track history if only in train\n",
        "                with torch.set_grad_enabled(phase == 'train'):\n",
        "                    outputs = model(inputs)\n",
        "                    _, preds = torch.max(outputs, 1)\n",
        "                    loss = criterion(outputs, labels)\n",
        "\n",
        "                    # backward + optimize only if in training phase\n",
        "                    if phase == 'train':\n",
        "                        loss.backward()\n",
        "                        optimizer.step()\n",
        "\n",
        "                # statistics\n",
        "                running_loss += loss.item() * inputs.size(0)\n",
        "                running_corrects += torch.sum(preds == labels.data)\n",
        "            if phase == 'train':\n",
        "                scheduler.step()\n",
        "\n",
        "            epoch_loss = running_loss / len(dataloaders[phase].dataset)\n",
        "            epoch_acc = running_corrects.double() / len(dataloaders[phase].dataset)\n",
        "\n",
        "            if epoch % (num_epochs // 10) == 0 and phase=='val':\n",
        "                print('Epoch {}/{}'.format(epoch, num_epochs - 1))\n",
        "                print('-' * 10)\n",
        "                print('{} Loss: {:.4f} Acc: {:.4f}\\n'.format(\n",
        "                    phase, epoch_loss, epoch_acc))\n",
        "\n",
        "            # deep copy the model\n",
        "            if phase == 'val' and epoch_acc > best_acc:\n",
        "                best_acc = epoch_acc\n",
        "                best_model_wts = copy.deepcopy(model.state_dict())\n",
        "\n",
        "\n",
        "    time_elapsed = time.time() - since\n",
        "    print('Training complete in {:.0f}m {:.0f}s'.format(\n",
        "        time_elapsed // 60, time_elapsed % 60))\n",
        "    print('Best val Acc: {:4f}'.format(best_acc))\n",
        "\n",
        "    # load best model weights\n",
        "    model.load_state_dict(best_model_wts)\n",
        "    return model"
      ],
      "execution_count": 11,
      "outputs": []
    },
    {
      "cell_type": "code",
      "metadata": {
        "id": "lR9AUDPQFyC8",
        "colab_type": "code",
        "colab": {}
      },
      "source": [
        "import time\n",
        "import math\n",
        "import torch\n",
        "\n",
        "\n",
        "def time_since(since):\n",
        "    now = time.time()\n",
        "    s = now - since\n",
        "    m = math.floor(s / 60)\n",
        "    s -= m * 60\n",
        "    return '%dm %ds' % (m, s)\n",
        "\n",
        "\n",
        "def get_params_num(net):\n",
        "    return sum(map(torch.numel, net.parameters()))\n",
        "\n",
        "\n",
        "def get_accuracy(dataloader, model, device='cpu'):\n",
        "    model.eval()\n",
        "    tot = len(dataloader.dataset)\n",
        "    with torch.no_grad():\n",
        "        n_right = 0\n",
        "        for data in dataloader:\n",
        "            batch = data[0].to(device)\n",
        "            labels = data[1].to(device)\n",
        "\n",
        "            outputs = model(batch)\n",
        "            out_labels = torch.argmax(outputs, dim=1)\n",
        "            n_right += torch.sum(labels == out_labels)\n",
        "    return float(n_right) / tot\n",
        "\n"
      ],
      "execution_count": 12,
      "outputs": []
    },
    {
      "cell_type": "code",
      "metadata": {
        "id": "f_QRYlROF9j8",
        "colab_type": "code",
        "colab": {
          "base_uri": "https://localhost:8080/",
          "height": 34
        },
        "outputId": "53adb0ea-b6e6-4cf2-ce96-3356e424d56d"
      },
      "source": [
        "import numpy as np\n",
        "from torch import nn\n",
        "from torch import optim\n",
        "import torch.nn.functional as F\n",
        "import torchvision\n",
        "from torchvision import transforms\n",
        "from IPython import display\n",
        "\n",
        "torch.manual_seed(2)\n",
        "\n",
        "device = torch.device(\"cuda:0\" if torch.cuda.is_available() else \"cpu\")\n",
        "\n",
        "print('Device: {}'.format(device))\n"
      ],
      "execution_count": 13,
      "outputs": [
        {
          "output_type": "stream",
          "text": [
            "Device: cpu\n"
          ],
          "name": "stdout"
        }
      ]
    },
    {
      "cell_type": "code",
      "metadata": {
        "id": "MkQLZapRGIGH",
        "colab_type": "code",
        "colab": {
          "base_uri": "https://localhost:8080/",
          "height": 117,
          "referenced_widgets": [
            "931e4520ec1841e78b627514922e81d1",
            "3ebbbb5ae7414d3684505ec49c14a3c1",
            "b67275685749481296fbf7489d7e4c6e",
            "e9549e5f522544a69428bfb1b580d720",
            "fd063b50ca6847cca9640a56fa68c517",
            "a23110ac6c394bb3af328eca20270225",
            "a1e2c9d673de42c7a53807391bb944cc",
            "9e4a2d65db30410dad7040a20c1a8901"
          ]
        },
        "outputId": "d8d406b7-ade4-49a2-884c-9a06ace6a8e7"
      },
      "source": [
        "transform = transforms.Compose(\n",
        "    [transforms.ToTensor(),\n",
        "     transforms.Normalize((0.5, 0.5, 0.5), (0.5, 0.5, 0.5))])\n",
        "\n",
        "trainset = torchvision.datasets.CIFAR100(root='./data', train= True, transform=transform, download=True)\n",
        "testset = torchvision.datasets.CIFAR100(root='./data', train= False,  transform=transform, download=True)\n",
        "\n",
        "\n",
        "trainloader = torch.utils.data.DataLoader(trainset, batch_size=64, shuffle=True,  num_workers=2)\n",
        "testloader  = torch.utils.data.DataLoader(testset,  batch_size=64, shuffle=False, num_workers=2)\n",
        "\n",
        "print(\"CIFAR100 images shape: {}\".format(tuple(trainset[0][0].shape)))"
      ],
      "execution_count": 5,
      "outputs": [
        {
          "output_type": "stream",
          "text": [
            "Downloading https://www.cs.toronto.edu/~kriz/cifar-100-python.tar.gz to ./data/cifar-100-python.tar.gz\n"
          ],
          "name": "stdout"
        },
        {
          "output_type": "display_data",
          "data": {
            "application/vnd.jupyter.widget-view+json": {
              "model_id": "931e4520ec1841e78b627514922e81d1",
              "version_minor": 0,
              "version_major": 2
            },
            "text/plain": [
              "HBox(children=(FloatProgress(value=1.0, bar_style='info', max=1.0), HTML(value='')))"
            ]
          },
          "metadata": {
            "tags": []
          }
        },
        {
          "output_type": "stream",
          "text": [
            "Extracting ./data/cifar-100-python.tar.gz to ./data\n",
            "Files already downloaded and verified\n",
            "CIFAR100 images shape: (3, 32, 32)\n"
          ],
          "name": "stdout"
        }
      ]
    },
    {
      "cell_type": "code",
      "metadata": {
        "id": "2Wfvo4DFHWoP",
        "colab_type": "code",
        "colab": {
          "base_uri": "https://localhost:8080/",
          "height": 306
        },
        "outputId": "f31a3f6f-cff8-4a51-bfac-eaab5ab6bfd8"
      },
      "source": [
        "# CNN using reduced VGG16\n",
        "class CNN(nn.Module):        \n",
        "    def __init__(self):                                                           \n",
        "        super(CNN, self).__init__()    \n",
        "        self.input_dim = 3 * 32 * 32                                            \n",
        "        self.n_classes = 100\n",
        "                                                                          # 3   * 32 * 32\n",
        "        self.conv1   = nn.Conv2d(3, 32, kernel_size=3, padding= 1)        # 32  * 32 * 32\n",
        "        self.bn1     = nn.BatchNorm2d(32)\n",
        "        \n",
        "        self.conv2   = nn.Conv2d(32,64, kernel_size=3, padding= 1)        # 64 * 32 * 32                     \n",
        "        self.bn2     = nn.BatchNorm2d(64)\n",
        "        \n",
        "        self.maxpool = nn.MaxPool2d(kernel_size=2, stride= 2)             # 64 * 16 * 16                            \n",
        "        \n",
        "        self.conv3   = nn.Conv2d(64,128, kernel_size=3, padding= 1)       # 128 * 16 * 16   \n",
        "        self.bn3 = nn.BatchNorm2d(128)\n",
        "        \n",
        "        self.conv4   = nn.Conv2d(128,256, kernel_size=3, padding= 1)      # 256 * 16 * 16   \n",
        "        self.bn4 = nn.BatchNorm2d(256)\n",
        "        \n",
        "        self.conv5   = nn.Conv2d(256, 128, kernel_size=3, padding= 1)     # 128 * 16 * 16   \n",
        "        self.bn5 = nn.BatchNorm2d(128)\n",
        "        \n",
        "        self.maxpool = nn.MaxPool2d(kernel_size=2 , stride= 2)            # 128 * 8  * 8    \n",
        "\n",
        "        self.fc1 = nn.Linear(128*8*8, 300)\n",
        "        self.fc2 = nn.Linear(300, 200)\n",
        "        self.out = nn.Linear(200, self.n_classes) \n",
        "        \n",
        "    def forward(self, x, verbose=False):\n",
        "        x = self.conv1(x)\n",
        "        x = F.relu(self.bn1(x))\n",
        "        x = F.dropout2d(x, 0.1)\n",
        "        \n",
        "        x = self.conv2(x)\n",
        "        x = F.relu(self.bn2(x))\n",
        "        x = F.dropout2d(x, 0.1)\n",
        "        \n",
        "        x = self.maxpool(x)\n",
        "        \n",
        "        x = self.conv3(x)\n",
        "        x = F.relu(self.bn3(x))\n",
        "        x = F.dropout2d(x, 0.2)\n",
        "        \n",
        "        x = self.conv4(x)\n",
        "        x = F.relu(self.bn4(x))\n",
        "        x = F.dropout2d(x, 0.2)\n",
        "        \n",
        "        x = self.conv5(x)\n",
        "        x = F.relu(self.bn5(x))\n",
        "        x = F.dropout2d(x, 0.2)\n",
        "        \n",
        "        x = self.maxpool(x)\n",
        "        \n",
        "        x = x.view(-1, 512*4*4)\n",
        "        x = self.fc1(x)\n",
        "        x = F.relu(x)\n",
        "        x = F.dropout2d(x, 0.5)\n",
        "        x = self.fc2(x)\n",
        "        x = F.relu(x)\n",
        "        x = self.out(x)\n",
        "        return x\n",
        "        \n",
        "        \n",
        "net = CNN()\n",
        "net.to(device)\n",
        "print(\"# of parameters: {}\".format(get_params_num(net)))\n",
        "print(net)"
      ],
      "execution_count": 6,
      "outputs": [
        {
          "output_type": "stream",
          "text": [
            "# of parameters: 3222872\n",
            "CNN(\n",
            "  (conv1): Conv2d(3, 32, kernel_size=(3, 3), stride=(1, 1), padding=(1, 1))\n",
            "  (bn1): BatchNorm2d(32, eps=1e-05, momentum=0.1, affine=True, track_running_stats=True)\n",
            "  (conv2): Conv2d(32, 64, kernel_size=(3, 3), stride=(1, 1), padding=(1, 1))\n",
            "  (bn2): BatchNorm2d(64, eps=1e-05, momentum=0.1, affine=True, track_running_stats=True)\n",
            "  (maxpool): MaxPool2d(kernel_size=2, stride=2, padding=0, dilation=1, ceil_mode=False)\n",
            "  (conv3): Conv2d(64, 128, kernel_size=(3, 3), stride=(1, 1), padding=(1, 1))\n",
            "  (bn3): BatchNorm2d(128, eps=1e-05, momentum=0.1, affine=True, track_running_stats=True)\n",
            "  (conv4): Conv2d(128, 256, kernel_size=(3, 3), stride=(1, 1), padding=(1, 1))\n",
            "  (bn4): BatchNorm2d(256, eps=1e-05, momentum=0.1, affine=True, track_running_stats=True)\n",
            "  (conv5): Conv2d(256, 128, kernel_size=(3, 3), stride=(1, 1), padding=(1, 1))\n",
            "  (bn5): BatchNorm2d(128, eps=1e-05, momentum=0.1, affine=True, track_running_stats=True)\n",
            "  (fc1): Linear(in_features=8192, out_features=300, bias=True)\n",
            "  (fc2): Linear(in_features=300, out_features=200, bias=True)\n",
            "  (out): Linear(in_features=200, out_features=100, bias=True)\n",
            ")\n"
          ],
          "name": "stdout"
        }
      ]
    },
    {
      "cell_type": "code",
      "metadata": {
        "id": "aT4Hw1qtH1Ex",
        "colab_type": "code",
        "colab": {
          "base_uri": "https://localhost:8080/",
          "height": 375
        },
        "outputId": "d967a5eb-0f18-4fa5-cbda-38b5ddf05992"
      },
      "source": [
        "lr = 0.001\n",
        "momentum = 0.99\n",
        "epochs = 20\n",
        "\n",
        "n_batches = len(trainloader)\n",
        "\n",
        "criterion = nn.CrossEntropyLoss()\n",
        "optimizer = optim.Adam(net.parameters(), lr=lr, weight_decay= 1e-5)\n",
        "\n",
        "net.train() \n",
        "for e in range(epochs):\n",
        "    for i, data in enumerate(trainloader):\n",
        "        batch = data[0].to(device)\n",
        "        labels = data[1].to(device)      \n",
        "        outputs = net(batch)\n",
        "        loss = criterion(outputs, labels)\n",
        "        \n",
        "        optimizer.zero_grad()\n",
        "        loss.backward()\n",
        "        optimizer.step()\n",
        "        if i % 50 == 0:\n",
        "            print(\"[EPOCH]: {}, [BATCH]: {}/{}, [LOSS]: {}\".format(e, i, n_batches, loss.item()))\n",
        "            display.clear_output(wait=True)"
      ],
      "execution_count": 8,
      "outputs": [
        {
          "output_type": "error",
          "ename": "KeyboardInterrupt",
          "evalue": "ignored",
          "traceback": [
            "\u001b[0;31m---------------------------------------------------------------------------\u001b[0m",
            "\u001b[0;31mKeyboardInterrupt\u001b[0m                         Traceback (most recent call last)",
            "\u001b[0;32m<ipython-input-8-4118915e1765>\u001b[0m in \u001b[0;36m<module>\u001b[0;34m()\u001b[0m\n\u001b[1;32m     17\u001b[0m \u001b[0;34m\u001b[0m\u001b[0m\n\u001b[1;32m     18\u001b[0m         \u001b[0moptimizer\u001b[0m\u001b[0;34m.\u001b[0m\u001b[0mzero_grad\u001b[0m\u001b[0;34m(\u001b[0m\u001b[0;34m)\u001b[0m\u001b[0;34m\u001b[0m\u001b[0;34m\u001b[0m\u001b[0m\n\u001b[0;32m---> 19\u001b[0;31m         \u001b[0mloss\u001b[0m\u001b[0;34m.\u001b[0m\u001b[0mbackward\u001b[0m\u001b[0;34m(\u001b[0m\u001b[0;34m)\u001b[0m\u001b[0;34m\u001b[0m\u001b[0;34m\u001b[0m\u001b[0m\n\u001b[0m\u001b[1;32m     20\u001b[0m         \u001b[0moptimizer\u001b[0m\u001b[0;34m.\u001b[0m\u001b[0mstep\u001b[0m\u001b[0;34m(\u001b[0m\u001b[0;34m)\u001b[0m\u001b[0;34m\u001b[0m\u001b[0;34m\u001b[0m\u001b[0m\n\u001b[1;32m     21\u001b[0m         \u001b[0;32mif\u001b[0m \u001b[0mi\u001b[0m \u001b[0;34m%\u001b[0m \u001b[0;36m50\u001b[0m \u001b[0;34m==\u001b[0m \u001b[0;36m0\u001b[0m\u001b[0;34m:\u001b[0m\u001b[0;34m\u001b[0m\u001b[0;34m\u001b[0m\u001b[0m\n",
            "\u001b[0;32m/usr/local/lib/python3.6/dist-packages/torch/tensor.py\u001b[0m in \u001b[0;36mbackward\u001b[0;34m(self, gradient, retain_graph, create_graph)\u001b[0m\n\u001b[1;32m    196\u001b[0m                 \u001b[0mproducts\u001b[0m\u001b[0;34m.\u001b[0m \u001b[0mDefaults\u001b[0m \u001b[0mto\u001b[0m\u001b[0;31m \u001b[0m\u001b[0;31m`\u001b[0m\u001b[0;31m`\u001b[0m\u001b[0;32mFalse\u001b[0m\u001b[0;31m`\u001b[0m\u001b[0;31m`\u001b[0m\u001b[0;34m.\u001b[0m\u001b[0;34m\u001b[0m\u001b[0;34m\u001b[0m\u001b[0m\n\u001b[1;32m    197\u001b[0m         \"\"\"\n\u001b[0;32m--> 198\u001b[0;31m         \u001b[0mtorch\u001b[0m\u001b[0;34m.\u001b[0m\u001b[0mautograd\u001b[0m\u001b[0;34m.\u001b[0m\u001b[0mbackward\u001b[0m\u001b[0;34m(\u001b[0m\u001b[0mself\u001b[0m\u001b[0;34m,\u001b[0m \u001b[0mgradient\u001b[0m\u001b[0;34m,\u001b[0m \u001b[0mretain_graph\u001b[0m\u001b[0;34m,\u001b[0m \u001b[0mcreate_graph\u001b[0m\u001b[0;34m)\u001b[0m\u001b[0;34m\u001b[0m\u001b[0;34m\u001b[0m\u001b[0m\n\u001b[0m\u001b[1;32m    199\u001b[0m \u001b[0;34m\u001b[0m\u001b[0m\n\u001b[1;32m    200\u001b[0m     \u001b[0;32mdef\u001b[0m \u001b[0mregister_hook\u001b[0m\u001b[0;34m(\u001b[0m\u001b[0mself\u001b[0m\u001b[0;34m,\u001b[0m \u001b[0mhook\u001b[0m\u001b[0;34m)\u001b[0m\u001b[0;34m:\u001b[0m\u001b[0;34m\u001b[0m\u001b[0;34m\u001b[0m\u001b[0m\n",
            "\u001b[0;32m/usr/local/lib/python3.6/dist-packages/torch/autograd/__init__.py\u001b[0m in \u001b[0;36mbackward\u001b[0;34m(tensors, grad_tensors, retain_graph, create_graph, grad_variables)\u001b[0m\n\u001b[1;32m     98\u001b[0m     Variable._execution_engine.run_backward(\n\u001b[1;32m     99\u001b[0m         \u001b[0mtensors\u001b[0m\u001b[0;34m,\u001b[0m \u001b[0mgrad_tensors\u001b[0m\u001b[0;34m,\u001b[0m \u001b[0mretain_graph\u001b[0m\u001b[0;34m,\u001b[0m \u001b[0mcreate_graph\u001b[0m\u001b[0;34m,\u001b[0m\u001b[0;34m\u001b[0m\u001b[0;34m\u001b[0m\u001b[0m\n\u001b[0;32m--> 100\u001b[0;31m         allow_unreachable=True)  # allow_unreachable flag\n\u001b[0m\u001b[1;32m    101\u001b[0m \u001b[0;34m\u001b[0m\u001b[0m\n\u001b[1;32m    102\u001b[0m \u001b[0;34m\u001b[0m\u001b[0m\n",
            "\u001b[0;31mKeyboardInterrupt\u001b[0m: "
          ]
        }
      ]
    },
    {
      "cell_type": "code",
      "metadata": {
        "id": "lQIOHXu97shb",
        "colab_type": "code",
        "colab": {
          "base_uri": "https://localhost:8080/",
          "height": 34
        },
        "outputId": "73c05831-8ebc-47c6-b51c-8c0d7ffeb56e"
      },
      "source": [
        "acc_train = get_accuracy(trainloader, net, device=device)\n",
        "acc_train"
      ],
      "execution_count": null,
      "outputs": [
        {
          "output_type": "execute_result",
          "data": {
            "text/plain": [
              "0.42714"
            ]
          },
          "metadata": {
            "tags": []
          },
          "execution_count": 11
        }
      ]
    },
    {
      "cell_type": "code",
      "metadata": {
        "id": "8vJ1JebC704z",
        "colab_type": "code",
        "colab": {
          "base_uri": "https://localhost:8080/",
          "height": 34
        },
        "outputId": "f60d186d-3240-412a-ebde-f139979cf9d8"
      },
      "source": [
        "acc_test = get_accuracy(testloader, net, device=device)\n",
        "acc_test"
      ],
      "execution_count": null,
      "outputs": [
        {
          "output_type": "execute_result",
          "data": {
            "text/plain": [
              "0.3465"
            ]
          },
          "metadata": {
            "tags": []
          },
          "execution_count": 12
        }
      ]
    },
    {
      "cell_type": "code",
      "metadata": {
        "id": "Sc1zNnNvVOoi",
        "colab_type": "code",
        "colab": {
          "base_uri": "https://localhost:8080/",
          "height": 527
        },
        "outputId": "cfde53bd-cc6a-423a-d72d-3fab9fcf4fbe"
      },
      "source": [
        "# CNN using real VGG16\n",
        "class CNN(nn.Module):        \n",
        "    def __init__(self):                                                           \n",
        "        super(CNN, self).__init__()    \n",
        "        self.input_dim = 3 * 32 * 32                                            \n",
        "        self.n_classes = 100\n",
        "                                                                          # 3   * 32 * 32\n",
        "        self.conv1   = nn.Conv2d(3, 32, kernel_size=3, padding= 1)         # 32  * 32 * 32\n",
        "        self.bn1     = nn.BatchNorm2d(32)\n",
        "        \n",
        "        self.conv2   = nn.Conv2d(32, 32, kernel_size=3, padding= 1)        # 32 * 32 * 32                     \n",
        "        self.bn2     = nn.BatchNorm2d(32)\n",
        "        \n",
        "        self.maxpool1 = nn.MaxPool2d(kernel_size=2, stride= 2)             # 32 * 16 * 16                            \n",
        "        \n",
        "        self.conv3   = nn.Conv2d(32, 32, kernel_size=3, padding= 1)        # 32 * 16 * 16\n",
        "        self.bn3     = nn.BatchNorm2d(32)\n",
        "        \n",
        "        self.conv4   = nn.Conv2d(32, 64, kernel_size=3, padding= 1)        # 64 * 16 * 16                     \n",
        "        self.bn4     = nn.BatchNorm2d(64)\n",
        "        \n",
        "        self.maxpool2 = nn.MaxPool2d(kernel_size=2, stride= 2)             # 64 * 8 * 8\n",
        "        \n",
        "        self.conv5   = nn.Conv2d(64, 64, kernel_size=3, padding= 1)        # 64 * 8 * 8  \n",
        "        self.bn5 = nn.BatchNorm2d(64)\n",
        "        \n",
        "        self.conv6   = nn.Conv2d(64,64 , kernel_size=3, padding= 1)        # 64 * 8 * 8  \n",
        "        self.bn6 = nn.BatchNorm2d(64)\n",
        "        \n",
        "        self.conv7   = nn.Conv2d(64, 128, kernel_size=3, padding= 1)       # 128 * 8 * 8   \n",
        "        self.bn7 = nn.BatchNorm2d(128)\n",
        "        \n",
        "        self.maxpool3 = nn.MaxPool2d(kernel_size=2 , stride= 2)            # 128 * 4  * 4    \n",
        "\n",
        "        self.conv8   = nn.Conv2d(128, 128, kernel_size=3, padding= 1)      # 128 * 4  * 4    \n",
        "        self.bn8 = nn.BatchNorm2d(128)\n",
        "        \n",
        "        self.conv9   = nn.Conv2d(128, 128, kernel_size=3, padding= 1)      # 128 * 4  * 4    \n",
        "        self.bn9 = nn.BatchNorm2d(128)\n",
        "        \n",
        "        self.conv10   = nn.Conv2d(128, 256, kernel_size=3, padding= 1)     # 256 * 4  * 4    \n",
        "        self.bn10 = nn.BatchNorm2d(256)\n",
        "        \n",
        "        self.maxpool4 = nn.MaxPool2d(kernel_size=2 , stride= 2)            # 256 * 2  * 2 \n",
        "\n",
        "        #self.conv11   = nn.Conv2d(256, 256, kernel_size=3, padding= 1)     # 256 * 2  * 2   \n",
        "        #self.bn11 = nn.BatchNorm2d(256)\n",
        "        \n",
        "        #self.conv12   = nn.Conv2d(256, 256, kernel_size=3, padding= 1)     # 256 * 2  * 2   \n",
        "        #self.bn12 = nn.BatchNorm2d(256)\n",
        "        \n",
        "        #self.conv13   = nn.Conv2d(256, 512, kernel_size=3, padding= 1)     # 512 * 2  * 2   \n",
        "        #self.bn13 = nn.BatchNorm2d(512)\n",
        "        \n",
        "        #self.maxpool5 = nn.MaxPool2d(kernel_size=2 , stride= 2)\n",
        "        \n",
        "        self.fc1 = nn.Linear(256*2*2 , 300)\n",
        "        self.fc2 = nn.Linear(300, 200)\n",
        "        self.out = nn.Linear(200, self.n_classes)\n",
        "              \n",
        "    def forward(self, x, verbose=False):\n",
        "        x = self.conv1(x)\n",
        "        x = F.relu(self.bn1(x))\n",
        "        x = F.dropout2d(x, 0.10)\n",
        "        \n",
        "        x = self.conv2(x)\n",
        "        x = F.relu(self.bn2(x))\n",
        "        x = F.dropout2d(x, 0.10)\n",
        "        \n",
        "        x = self.maxpool1(x)\n",
        "        \n",
        "        x = self.conv3(x)\n",
        "        x = F.relu(self.bn3(x))\n",
        "        x = F.dropout2d(x, 0.15)\n",
        "        \n",
        "        x = self.conv4(x)\n",
        "        x = F.relu(self.bn4(x))\n",
        "        x = F.dropout2d(x, 0.15)\n",
        "        \n",
        "        x = self.maxpool2(x)\n",
        "\n",
        "        x = self.conv5(x)\n",
        "        x = F.relu(self.bn5(x))\n",
        "        x = F.dropout2d(x, 0.20)\n",
        "        \n",
        "        x = self.conv6(x)\n",
        "        x = F.relu(self.bn6(x))\n",
        "        x = F.dropout2d(x, 0.20)\n",
        "        \n",
        "        x = self.conv7(x)\n",
        "        x = F.relu(self.bn7(x))\n",
        "        x = F.dropout2d(x, 0.25)\n",
        "        \n",
        "        x = self.maxpool3(x)\n",
        "        \n",
        "        x = self.conv8(x)\n",
        "        x = F.relu(self.bn8(x))\n",
        "        x = F.dropout2d(x, 0.25)\n",
        "        \n",
        "        x = self.conv9(x)\n",
        "        x = F.relu(self.bn9(x))\n",
        "        x = F.dropout2d(x, 0.30)\n",
        "        \n",
        "        x = self.conv10(x)\n",
        "        x = F.relu(self.bn10(x))\n",
        "        x = F.dropout2d(x, 0.30)\n",
        "        \n",
        "        x = self.maxpool4(x)\n",
        "\n",
        "        x = x.view(-1, 256*2*2)\n",
        "        x = self.fc1(x)\n",
        "        x = F.relu(x)\n",
        "        x = F.dropout2d(x, 0.50)\n",
        "        x = self.fc2(x)\n",
        "        x = F.relu(x)\n",
        "        x = self.out(x)\n",
        "        return x\n",
        "        \n",
        "        \n",
        "net = CNN()\n",
        "net.to(device)\n",
        "print(\"# of parameters: {}\".format(get_params_num(net)))\n",
        "print(net)"
      ],
      "execution_count": null,
      "outputs": [
        {
          "output_type": "stream",
          "text": [
            "# of parameters: 1165592\n",
            "CNN(\n",
            "  (conv1): Conv2d(3, 32, kernel_size=(3, 3), stride=(1, 1), padding=(1, 1))\n",
            "  (bn1): BatchNorm2d(32, eps=1e-05, momentum=0.1, affine=True, track_running_stats=True)\n",
            "  (conv2): Conv2d(32, 32, kernel_size=(3, 3), stride=(1, 1), padding=(1, 1))\n",
            "  (bn2): BatchNorm2d(32, eps=1e-05, momentum=0.1, affine=True, track_running_stats=True)\n",
            "  (maxpool1): MaxPool2d(kernel_size=2, stride=2, padding=0, dilation=1, ceil_mode=False)\n",
            "  (conv3): Conv2d(32, 32, kernel_size=(3, 3), stride=(1, 1), padding=(1, 1))\n",
            "  (bn3): BatchNorm2d(32, eps=1e-05, momentum=0.1, affine=True, track_running_stats=True)\n",
            "  (conv4): Conv2d(32, 64, kernel_size=(3, 3), stride=(1, 1), padding=(1, 1))\n",
            "  (bn4): BatchNorm2d(64, eps=1e-05, momentum=0.1, affine=True, track_running_stats=True)\n",
            "  (maxpool2): MaxPool2d(kernel_size=2, stride=2, padding=0, dilation=1, ceil_mode=False)\n",
            "  (conv5): Conv2d(64, 64, kernel_size=(3, 3), stride=(1, 1), padding=(1, 1))\n",
            "  (bn5): BatchNorm2d(64, eps=1e-05, momentum=0.1, affine=True, track_running_stats=True)\n",
            "  (conv6): Conv2d(64, 64, kernel_size=(3, 3), stride=(1, 1), padding=(1, 1))\n",
            "  (bn6): BatchNorm2d(64, eps=1e-05, momentum=0.1, affine=True, track_running_stats=True)\n",
            "  (conv7): Conv2d(64, 128, kernel_size=(3, 3), stride=(1, 1), padding=(1, 1))\n",
            "  (bn7): BatchNorm2d(128, eps=1e-05, momentum=0.1, affine=True, track_running_stats=True)\n",
            "  (maxpool3): MaxPool2d(kernel_size=2, stride=2, padding=0, dilation=1, ceil_mode=False)\n",
            "  (conv8): Conv2d(128, 128, kernel_size=(3, 3), stride=(1, 1), padding=(1, 1))\n",
            "  (bn8): BatchNorm2d(128, eps=1e-05, momentum=0.1, affine=True, track_running_stats=True)\n",
            "  (conv9): Conv2d(128, 128, kernel_size=(3, 3), stride=(1, 1), padding=(1, 1))\n",
            "  (bn9): BatchNorm2d(128, eps=1e-05, momentum=0.1, affine=True, track_running_stats=True)\n",
            "  (conv10): Conv2d(128, 256, kernel_size=(3, 3), stride=(1, 1), padding=(1, 1))\n",
            "  (bn10): BatchNorm2d(256, eps=1e-05, momentum=0.1, affine=True, track_running_stats=True)\n",
            "  (maxpool4): MaxPool2d(kernel_size=2, stride=2, padding=0, dilation=1, ceil_mode=False)\n",
            "  (fc1): Linear(in_features=1024, out_features=300, bias=True)\n",
            "  (fc2): Linear(in_features=300, out_features=200, bias=True)\n",
            "  (out): Linear(in_features=200, out_features=100, bias=True)\n",
            ")\n"
          ],
          "name": "stdout"
        }
      ]
    },
    {
      "cell_type": "code",
      "metadata": {
        "id": "x_exM6ATTpWg",
        "colab_type": "code",
        "colab": {
          "base_uri": "https://localhost:8080/",
          "height": 34
        },
        "outputId": "51426739-1f4c-4a30-d6be-2cf4e92cfe1b"
      },
      "source": [
        "lr = 0.001\n",
        "momentum = 0.99\n",
        "epochs = 30\n",
        "\n",
        "n_batches = len(trainloader)\n",
        "\n",
        "criterion = nn.CrossEntropyLoss()\n",
        "optimizer = optim.Adam(net.parameters(), lr=lr, weight_decay= 1e-5)\n",
        "\n",
        "net.train() \n",
        "for e in range(epochs):\n",
        "    for i, data in enumerate(trainloader):\n",
        "        batch = data[0].to(device)\n",
        "        labels = data[1].to(device)      \n",
        "        outputs = net(batch)\n",
        "        loss = criterion(outputs, labels)\n",
        "        \n",
        "        optimizer.zero_grad()\n",
        "        loss.backward()\n",
        "        optimizer.step()\n",
        "        if i % 50 == 0:\n",
        "            print(\"[EPOCH]: {}, [BATCH]: {}/{}, [LOSS]: {}\".format(e, i, n_batches, loss.item()))\n",
        "            display.clear_output(wait=True)"
      ],
      "execution_count": null,
      "outputs": [
        {
          "output_type": "stream",
          "text": [
            "[EPOCH]: 29, [BATCH]: 750/782, [LOSS]: 2.734299421310425\n"
          ],
          "name": "stdout"
        }
      ]
    },
    {
      "cell_type": "code",
      "metadata": {
        "id": "X6fzshNx-iF-",
        "colab_type": "code",
        "colab": {
          "base_uri": "https://localhost:8080/",
          "height": 34
        },
        "outputId": "d873a087-06f5-4baa-e54f-534af1638cde"
      },
      "source": [
        "acc_train = get_accuracy(trainloader, net, device=device)\n",
        "acc_train"
      ],
      "execution_count": null,
      "outputs": [
        {
          "output_type": "execute_result",
          "data": {
            "text/plain": [
              "0.3925"
            ]
          },
          "metadata": {
            "tags": []
          },
          "execution_count": 18
        }
      ]
    },
    {
      "cell_type": "code",
      "metadata": {
        "id": "pyvHLrW0-iOk",
        "colab_type": "code",
        "colab": {
          "base_uri": "https://localhost:8080/",
          "height": 34
        },
        "outputId": "23f0a0be-0906-45d1-9ce5-1be4f9cdd8a1"
      },
      "source": [
        "acc_test = get_accuracy(testloader, net, device=device)\n",
        "acc_test"
      ],
      "execution_count": null,
      "outputs": [
        {
          "output_type": "execute_result",
          "data": {
            "text/plain": [
              "0.3426"
            ]
          },
          "metadata": {
            "tags": []
          },
          "execution_count": 19
        }
      ]
    }
  ]
}